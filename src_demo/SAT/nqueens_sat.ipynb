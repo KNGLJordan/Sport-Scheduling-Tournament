{
  "cells": [
    {
      "cell_type": "markdown",
      "id": "accessory-couple",
      "metadata": {
        "id": "accessory-couple"
      },
      "source": [
        "# Z3 SAT for N-Queens"
      ]
    },
    {
      "cell_type": "code",
      "execution_count": 52,
      "id": "fuzzy-intersection",
      "metadata": {
        "id": "fuzzy-intersection",
        "pycharm": {
          "name": "#%%\n"
        }
      },
      "outputs": [],
      "source": [
        "from itertools import combinations\n",
        "from z3 import *\n",
        "from utils import *\n",
        "import math\n",
        "import time\n",
        "import json"
      ]
    },
    {
      "cell_type": "markdown",
      "id": "f25d8a5b",
      "metadata": {
        "id": "f25d8a5b"
      },
      "source": [
        "## Encodings: at least one, at most one, exactly one"
      ]
    },
    {
      "cell_type": "markdown",
      "id": "388567e4",
      "metadata": {},
      "source": [
        "### Naive pairwise"
      ]
    },
    {
      "cell_type": "code",
      "execution_count": 53,
      "id": "f81eab93",
      "metadata": {
        "id": "f81eab93",
        "pycharm": {
          "name": "#%%\n"
        }
      },
      "outputs": [],
      "source": [
        "def at_least_one_np(bool_vars):\n",
        "    return Or(bool_vars)\n",
        "\n",
        "def at_most_one_np(bool_vars, name = \"\"):\n",
        "    return And([Not(And(pair[0], pair[1])) for pair in combinations(bool_vars, 2)])\n",
        "\n",
        "def exactly_one_np(bool_vars, name = \"\"):\n",
        "    return And(at_most_one_np(bool_vars, ''), at_least_one_np(bool_vars))"
      ]
    },
    {
      "cell_type": "markdown",
      "id": "0677efad",
      "metadata": {},
      "source": [
        "### Sequential"
      ]
    },
    {
      "cell_type": "code",
      "execution_count": 54,
      "id": "85e475f3",
      "metadata": {},
      "outputs": [],
      "source": [
        "def at_least_one_seq(bool_vars):\n",
        "    return at_least_one_np(bool_vars)\n",
        "\n",
        "def at_most_one_seq(bool_vars, name=''):\n",
        "    constraints = []\n",
        "    n = len(bool_vars)\n",
        "    s = [Bool(f's_{name}_{i}') for i in range(n-1)]\n",
        "    constraints.append(Or(Not(bool_vars[0]), s[0]))\n",
        "    constraints.append(Or(Not(bool_vars[n-1]), Not(s[n-2])))\n",
        "    for i in range(1, n-1):\n",
        "        constraints.append(Or(Not(bool_vars[i]), s[i]))\n",
        "        constraints.append(Or(Not(bool_vars[i]), Not(s[i-1])))\n",
        "        constraints.append(Or(Not(s[i-1]), s[i]))\n",
        "    return And(constraints)\n",
        "\n",
        "def exactly_one_seq(bool_vars, name=''):\n",
        "    return And(at_most_one_seq(bool_vars, name), at_least_one_seq(bool_vars))"
      ]
    },
    {
      "cell_type": "markdown",
      "id": "2c4ba0d8",
      "metadata": {},
      "source": [
        "### Bitwise"
      ]
    },
    {
      "cell_type": "code",
      "execution_count": 55,
      "id": "0a156e86",
      "metadata": {},
      "outputs": [],
      "source": [
        "def toBinary(num, length = None):\n",
        "    num_bin = bin(num).split('b')[-1]\n",
        "    if length:\n",
        "        return '0'*(length - len(num_bin)) + num_bin\n",
        "    return num_bin\n",
        "\n",
        "def at_least_one_bw(bool_vars):\n",
        "    return at_least_one_np(bool_vars)\n",
        "\n",
        "def at_most_one_bw(bool_vars, name):\n",
        "    constraints = []\n",
        "    n = len(bool_vars)\n",
        "    m = math.ceil(math.log2(n))\n",
        "    r = [Bool(f'r_{name}_{i}') for i in range(m)]\n",
        "    binary_representation = [toBinary(i, m) for i in range(n)]\n",
        "    for i in range(n):\n",
        "        for j in range(m):\n",
        "            phi = Not(r[j])\n",
        "            if binary_representation[i][j] == '1':\n",
        "                phi = r[j]\n",
        "            constraints.append(Or(Not(bool_vars[i]), phi))\n",
        "    return And(constraints)\n",
        "\n",
        "def exactly_one_bw(bool_vars, name):\n",
        "    return And(at_most_one_bw(bool_vars, name), at_least_one_bw(bool_vars))"
      ]
    },
    {
      "cell_type": "markdown",
      "id": "11fcf59f",
      "metadata": {},
      "source": [
        "### Heule (it's broken, must be fixed)"
      ]
    },
    {
      "cell_type": "code",
      "execution_count": 56,
      "id": "490286fc",
      "metadata": {},
      "outputs": [],
      "source": [
        "def at_least_one_he(bool_vars):\n",
        "    return at_least_one_np(bool_vars)\n",
        "\n",
        "def at_most_one_he(bool_vars, name):\n",
        "    if len(bool_vars) <= 4:\n",
        "        return at_most_one_np(bool_vars, name)\n",
        "    else:\n",
        "        y = Bool(f'y_{name}')\n",
        "        return And(And(at_most_one_np(bool_vars[:3], name), y), at_most_one_he(bool_vars[3:] + [Not(y)], name+'_'))\n",
        "\n",
        "def exactly_one_he(bool_vars, name):\n",
        "    return And(at_most_one_he(bool_vars, name), at_least_one_he(bool_vars))"
      ]
    },
    {
      "cell_type": "markdown",
      "id": "a0d2c990",
      "metadata": {},
      "source": [
        "## Encodings: at most k, at least k, exactly k "
      ]
    },
    {
      "cell_type": "markdown",
      "id": "d68bc9b2",
      "metadata": {},
      "source": [
        "### Naive pairwise"
      ]
    },
    {
      "cell_type": "code",
      "execution_count": 57,
      "id": "80615486",
      "metadata": {},
      "outputs": [],
      "source": [
        "def at_least_k_np(bool_vars, k, name = \"\"):\n",
        "    return at_most_k_np([Not(var) for var in bool_vars], len(bool_vars) - k)\n",
        "\n",
        "def at_most_k_np(bool_vars, k, name = \"\"):\n",
        "    return And([Or([Not(x) for x in X]) for X in combinations(bool_vars, k+1)])\n",
        "\n",
        "def exactly_k_np(bool_vars, k, name = \"\"):\n",
        "    return at_most_k_np(bool_vars, k) and at_least_k_np(bool_vars, k)"
      ]
    },
    {
      "cell_type": "markdown",
      "id": "78ad282b",
      "metadata": {},
      "source": [
        "### Sequential"
      ]
    },
    {
      "cell_type": "code",
      "execution_count": 58,
      "id": "46ffb165",
      "metadata": {},
      "outputs": [],
      "source": [
        "def at_least_k_seq(bool_vars, k, name):\n",
        "    return at_least_k_np(bool_vars, k, name)\n",
        "\n",
        "def at_most_k_seq(bool_vars, k, name):\n",
        "    constraints = []\n",
        "    n = len(bool_vars)\n",
        "    s = [[Bool(f's_{name}_{i}_{j}') for j in range(k)] for i in range(n-1)]\n",
        "    constraints.append(Or(Not(bool_vars[0]), s[0][0]))\n",
        "    constraints += [Not(s[0][j]) for j in range(1, k)]\n",
        "    for i in range(1, n-1):\n",
        "        constraints.append(Or(Not(bool_vars[i]), s[i][0]))\n",
        "        constraints.append(Or(Not(s[i-1][0]), s[i][0]))\n",
        "        constraints.append(Or(Not(bool_vars[i]), s[i][1]))\n",
        "        for j in range(1,k):\n",
        "            constraints.append(Or(Not(bool_vars[i]), Not(s[i-1][j-1]), s[i][j]))\n",
        "            constraints.append(Or(Not(s[i-1][j]), s[i][j]))\n",
        "        constraints.append(Or(Not(bool_vars[n-1]), Not(s[n-2][k-1])))\n",
        "    return And(constraints)\n",
        "\n",
        "\n",
        "def exactly_k_seq(bool_vars, k, name):\n",
        "    return And(at_most_k_seq(bool_vars, k, name), at_least_k_seq(bool_vars, k, name))"
      ]
    },
    {
      "cell_type": "markdown",
      "id": "50a7ea52",
      "metadata": {
        "id": "50a7ea52"
      },
      "source": [
        "## N-Queens problem"
      ]
    },
    {
      "cell_type": "markdown",
      "id": "d18ea08c",
      "metadata": {
        "id": "d18ea08c"
      },
      "source": [
        "The [n-queens problem](https://en.wikipedia.org/wiki/Eight_queens_puzzle) is the problem of placing n chess queens in a $nxn$ chessboard so that no two queens threaten each other. In light of this, the solution requires that no two queens share the same row, column, or diagonal."
      ]
    },
    {
      "cell_type": "code",
      "execution_count": 59,
      "id": "7f070a1e",
      "metadata": {
        "id": "7f070a1e",
        "pycharm": {
          "name": "#%%\n"
        }
      },
      "outputs": [],
      "source": [
        "def nqueens_sat(n):\n",
        "    p = [[Bool(f\"x_{i}_{j}\") for j in range(n)] for i in range(n)]\n",
        "\n",
        "    # Create the solver instance\n",
        "    s = Solver()\n",
        "\n",
        "    # Exactly one on each row and column\n",
        "    for i in range(n):\n",
        "        s.add(exactly_one(p[i], f'row_{i}'))\n",
        "        s.add(exactly_one([p[j][i] for j in range(n)], f'col_{i}'))\n",
        "              \n",
        "\n",
        "    # Add the diagonal constraints\n",
        "    for i in range(n-1):\n",
        "        diag_ru_ll = []\n",
        "        diag_lu_rl = []\n",
        "        diag_ll_ru = []\n",
        "        diag_rl_lu = []\n",
        "        for j in range(n-i):\n",
        "            diag_ru_ll += [p[i+j][j]]\n",
        "            diag_lu_rl += [p[n-1-(i+j)][j]]\n",
        "            diag_ll_ru += [p[i+j][n-j-1]]\n",
        "            diag_rl_lu += [p[n-1-(i+j)][n-j-1]]\n",
        "        s.add(at_most_one(diag_ru_ll, f'd1_{i}'))\n",
        "        s.add(at_most_one(diag_lu_rl, f'd2_{i}'))\n",
        "        s.add(at_most_one(diag_ll_ru, f'd3_{i}'))\n",
        "        s.add(at_most_one(diag_rl_lu, f'd4_{i}'))\n",
        "\n",
        "    if s.check() == sat:\n",
        "        m = s.model()\n",
        "        return [(i,j) for i in range(n) for j in range(n) if m.evaluate(p[i][j])]\n",
        "    else:\n",
        "        return None\n",
        "   \n"
      ]
    },
    {
      "cell_type": "markdown",
      "id": "bb994a33",
      "metadata": {},
      "source": [
        "## Solving NQueens Examples"
      ]
    },
    {
      "cell_type": "code",
      "execution_count": 60,
      "id": "264645a0",
      "metadata": {
        "id": "264645a0",
        "pycharm": {
          "name": "#%%\n"
        }
      },
      "outputs": [
        {
          "name": "stdout",
          "output_type": "stream",
          "text": [
            "sol :  [(0, 3), (1, 7), (2, 9), (3, 11), (4, 6), (5, 1), (6, 10), (7, 12), (8, 5), (9, 0), (10, 2), (11, 4), (12, 13), (13, 8)]\n",
            ". . . ♛ . . . . . . . . . . \n",
            ". . . . . . . ♛ . . . . . . \n",
            ". . . . . . . . . ♛ . . . . \n",
            ". . . . . . . . . . . ♛ . . \n",
            ". . . . . . ♛ . . . . . . . \n",
            ". ♛ . . . . . . . . . . . . \n",
            ". . . . . . . . . . ♛ . . . \n",
            ". . . . . . . . . . . . ♛ . \n",
            ". . . . . ♛ . . . . . . . . \n",
            "♛ . . . . . . . . . . . . . \n",
            ". . ♛ . . . . . . . . . . . \n",
            ". . . . ♛ . . . . . . . . . \n",
            ". . . . . . . . . . . . . ♛ \n",
            ". . . . . . . . ♛ . . . . . \n",
            "CPU times: user 672 ms, sys: 1.87 ms, total: 674 ms\n",
            "Wall time: 723 ms\n"
          ]
        }
      ],
      "source": [
        "%%time\n",
        "at_most_one = at_most_one_np\n",
        "at_least_one = at_least_one_np\n",
        "exactly_one = exactly_one_np\n",
        "solution = nqueens_sat(14)\n",
        "print(\"sol : \", solution)\n",
        "display_nqueens(solution)"
      ]
    },
    {
      "cell_type": "code",
      "execution_count": 61,
      "id": "3746d610",
      "metadata": {},
      "outputs": [
        {
          "name": "stdout",
          "output_type": "stream",
          "text": [
            "sol :  [(0, 13), (1, 4), (2, 9), (3, 7), (4, 3), (5, 10), (6, 12), (7, 2), (8, 0), (9, 11), (10, 6), (11, 8), (12, 5), (13, 1)]\n",
            ". . . . . . . . . . . . . ♛ \n",
            ". . . . ♛ . . . . . . . . . \n",
            ". . . . . . . . . ♛ . . . . \n",
            ". . . . . . . ♛ . . . . . . \n",
            ". . . ♛ . . . . . . . . . . \n",
            ". . . . . . . . . . ♛ . . . \n",
            ". . . . . . . . . . . . ♛ . \n",
            ". . ♛ . . . . . . . . . . . \n",
            "♛ . . . . . . . . . . . . . \n",
            ". . . . . . . . . . . ♛ . . \n",
            ". . . . . . ♛ . . . . . . . \n",
            ". . . . . . . . ♛ . . . . . \n",
            ". . . . . ♛ . . . . . . . . \n",
            ". ♛ . . . . . . . . . . . . \n",
            "CPU times: user 402 ms, sys: 2.05 ms, total: 404 ms\n",
            "Wall time: 404 ms\n"
          ]
        }
      ],
      "source": [
        "%%time\n",
        "at_most_one = at_most_one_seq\n",
        "at_least_one = at_least_one_seq\n",
        "exactly_one = exactly_one_seq\n",
        "solution = nqueens_sat(14)\n",
        "print(\"sol : \", solution)\n",
        "display_nqueens(solution)"
      ]
    },
    {
      "cell_type": "code",
      "execution_count": 62,
      "id": "8dbe4e46",
      "metadata": {},
      "outputs": [
        {
          "name": "stdout",
          "output_type": "stream",
          "text": [
            "sol :  [(0, 6), (1, 0), (2, 12), (3, 1), (4, 8), (5, 10), (6, 2), (7, 4), (8, 9), (9, 11), (10, 3), (11, 5), (12, 7), (13, 13)]\n",
            ". . . . . . ♛ . . . . . . . \n",
            "♛ . . . . . . . . . . . . . \n",
            ". . . . . . . . . . . . ♛ . \n",
            ". ♛ . . . . . . . . . . . . \n",
            ". . . . . . . . ♛ . . . . . \n",
            ". . . . . . . . . . ♛ . . . \n",
            ". . ♛ . . . . . . . . . . . \n",
            ". . . . ♛ . . . . . . . . . \n",
            ". . . . . . . . . ♛ . . . . \n",
            ". . . . . . . . . . . ♛ . . \n",
            ". . . ♛ . . . . . . . . . . \n",
            ". . . . . ♛ . . . . . . . . \n",
            ". . . . . . . ♛ . . . . . . \n",
            ". . . . . . . . . . . . . ♛ \n",
            "CPU times: user 601 ms, sys: 1.07 ms, total: 602 ms\n",
            "Wall time: 605 ms\n"
          ]
        }
      ],
      "source": [
        "%%time\n",
        "at_most_one = at_most_one_bw\n",
        "at_least_one = at_least_one_bw\n",
        "exactly_one = exactly_one_bw\n",
        "solution = nqueens_sat(14)\n",
        "print(\"sol : \", solution)\n",
        "display_nqueens(solution)"
      ]
    },
    {
      "cell_type": "code",
      "execution_count": 63,
      "id": "b59bc376",
      "metadata": {},
      "outputs": [
        {
          "name": "stdout",
          "output_type": "stream",
          "text": [
            ". . . . . ♛ . . . ♛ . . ♛ . . . . . . . \n",
            ". . . . . . . ♛ . . . ♛ . . . . . . . . \n",
            ". . . . . . . . ♛ . . . . ♛ . . . . . . \n",
            ". . . . ♛ . ♛ . . . ♛ . . . . . . . . . \n",
            "♛ . . . . . . . . . . . . . . . . . . . \n",
            ". . . ♛ . . . . . . . . . . . . . . . . \n",
            ". ♛ . . . . . . . . . . . . . . . . . . \n",
            ". . . ♛ . . . . . . . . . . . . . . . . \n",
            ". . ♛ . . . . . . . . . . . . . . . . . \n",
            ". . . ♛ . . . . . . . . . . . . . . . . \n",
            ". . ♛ . . . . . . . . . . . . . . . . . \n",
            "♛ . . . . . . . . . . . . . . . . . . . \n",
            ". . ♛ . . . . . . . . . . . . . . . . . \n",
            "♛ . . . . . . . . . . . . . . . . . . . \n",
            ". . . . . . . . . . . . . . . . . . . . \n",
            ". . . . . . . . . . . . . . . . . . . . \n",
            ". . . . . . . . . . . . . . . . . . . . \n",
            ". . . . . . . . . . . . . . . . . . . . \n",
            ". . . . . . . . . . . . . . . . . . . . \n",
            ". . . . . . . . . . . . . . . . . . . . \n",
            "CPU times: user 388 ms, sys: 3.18 ms, total: 391 ms\n",
            "Wall time: 420 ms\n"
          ]
        }
      ],
      "source": [
        "%%time\n",
        "at_most_one = at_most_one_he\n",
        "at_least_one = at_least_one_he\n",
        "exactly_one = exactly_one_he\n",
        "display_nqueens(nqueens_sat(14))"
      ]
    },
    {
      "cell_type": "markdown",
      "id": "873579ab",
      "metadata": {},
      "source": [
        "## Instances"
      ]
    },
    {
      "cell_type": "code",
      "execution_count": 64,
      "id": "bd2f7ce5",
      "metadata": {},
      "outputs": [],
      "source": [
        "instances = []\n",
        "\n",
        "# instance1 = 4\n",
        "# instances.append(instance1)\n",
        "\n",
        "# instance2 = 8 \n",
        "# instances.append(instance2)\n",
        "\n",
        "instance3 = 16\n",
        "instances.append(instance3)\n",
        "\n",
        "instance4 = 32\n",
        "instances.append(instance4)\n",
        "\n",
        "# instance5 = 64\n",
        "# instances.append(instance5)\n"
      ]
    },
    {
      "cell_type": "markdown",
      "id": "3b0a8036",
      "metadata": {},
      "source": [
        "## Approaches"
      ]
    },
    {
      "cell_type": "code",
      "execution_count": 65,
      "id": "1cd29006",
      "metadata": {},
      "outputs": [],
      "source": [
        "approaches = ['naive', 'sequential', 'pairwise', 'heule']\n",
        "\n",
        "def find_optimal(instance):\n",
        "\n",
        "    # In another preoblem the optimal solution can be found using\n",
        "    # - linear search\n",
        "    # - binary search\n",
        "    # - ...\n",
        "\n",
        "    # -------------- START LOOKING FOR OPTIMAL SOLUTION --------------\n",
        "    start_time = time.time()\n",
        "\n",
        "    # For this simple case we basically find a solution\n",
        "    sol = nqueens_sat(instance)\n",
        "\n",
        "    # In Nqueens an optimal solution doesn't exist (always optimal)\n",
        "    optimal = True\n",
        "\n",
        "    end_time = time.time()\n",
        "    elapsed_time = math.floor(end_time - start_time)\n",
        "    # -------------- END LOOKING FOR OPTIMAL SOLUTION --------------\n",
        "    \n",
        "    # In this simple case the objective value function has no sense\n",
        "    # We can set it to 1 (a dummy value)\n",
        "    obj = 1\n",
        "\n",
        "    \n",
        "\n",
        "    return elapsed_time, optimal, obj, sol\n",
        "\n",
        "def find_optimal_naive(instance):\n",
        "    \n",
        "    at_most_one = at_most_one_np\n",
        "    at_least_one = at_least_one_np\n",
        "    exactly_one = exactly_one_np\n",
        "    \n",
        "    return find_optimal(instance)\n",
        "\n",
        "def find_optimal_sequential(instance):\n",
        "\n",
        "    at_most_one = at_most_one_seq\n",
        "    at_least_one = at_least_one_seq\n",
        "    exactly_one = exactly_one_seq\n",
        "\n",
        "    return find_optimal(instance)\n",
        "\n",
        "def find_optimal_pairwise(instance):\n",
        "\n",
        "    at_most_one = at_most_one_bw\n",
        "    at_least_one = at_least_one_bw\n",
        "    exactly_one = exactly_one_bw\n",
        "\n",
        "    return find_optimal(instance)\n",
        "\n",
        "def find_optimal_heule(instance):\n",
        "\n",
        "    at_most_one = at_most_one_he\n",
        "    at_least_one = at_least_one_he\n",
        "    exactly_one = exactly_one_he\n",
        "\n",
        "    return find_optimal(instance)"
      ]
    },
    {
      "cell_type": "code",
      "execution_count": 66,
      "id": "236b7d85",
      "metadata": {},
      "outputs": [],
      "source": [
        "for instance, i in enumerate(instances):\n",
        "\n",
        "    json_object = {}\n",
        "    \n",
        "    for approach in approaches:\n",
        "        if approach == 'naive':\n",
        "            elapsed_time, optimal, obj, sol = find_optimal_naive(i)\n",
        "        elif approach == 'sequential':\n",
        "            elapsed_time, optimal, obj, sol = find_optimal_sequential(i)\n",
        "        elif approach == 'pairwise':\n",
        "            elapsed_time, optimal, obj, sol = find_optimal_pairwise(i)\n",
        "        elif approach == 'heule':\n",
        "            elapsed_time, optimal, obj, sol = find_optimal_heule(i)\n",
        "\n",
        "        json_object [approach] = {\n",
        "            \"time\": elapsed_time,\n",
        "            \"optimal\": optimal,\n",
        "            \"obj\": obj,\n",
        "            \"sol\": sol\n",
        "        }\n",
        "    \n",
        "    with open(f\"../../res_demo/SAT/{i}.json\", \"w\") as f:\n",
        "        f.write(json.dumps(json_object, indent=3))"
      ]
    }
  ],
  "metadata": {
    "colab": {
      "provenance": []
    },
    "kernelspec": {
      "display_name": "usr",
      "language": "python",
      "name": "python3"
    },
    "language_info": {
      "codemirror_mode": {
        "name": "ipython",
        "version": 3
      },
      "file_extension": ".py",
      "mimetype": "text/x-python",
      "name": "python",
      "nbconvert_exporter": "python",
      "pygments_lexer": "ipython3",
      "version": "3.12.3"
    }
  },
  "nbformat": 4,
  "nbformat_minor": 5
}
