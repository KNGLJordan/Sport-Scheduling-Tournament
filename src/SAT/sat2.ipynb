{
  "cells": [
    {
      "cell_type": "markdown",
      "metadata": {
        "colab_type": "text",
        "id": "view-in-github"
      },
      "source": [
        "<a href=\"https://colab.research.google.com/github/KNGLJordan/CDMO-project/blob/main/src/SAT/sat.ipynb\" target=\"_parent\"><img src=\"https://colab.research.google.com/assets/colab-badge.svg\" alt=\"Open In Colab\"/></a>"
      ]
    },
    {
      "cell_type": "code",
      "execution_count": null,
      "metadata": {
        "colab": {
          "base_uri": "https://localhost:8080/"
        },
        "id": "VRrLCw21mnpb",
        "outputId": "f94299d1-5f43-4bb8-d228-a10f027f7083"
      },
      "outputs": [
        {
          "name": "stdout",
          "output_type": "stream",
          "text": [
            "[sudo] password for lucazini03: \n"
          ]
        }
      ],
      "source": [
        "!sudo apt install python3-z3"
      ]
    },
    {
      "cell_type": "code",
      "execution_count": 4,
      "metadata": {
        "id": "XHt_cqE6mzpC"
      },
      "outputs": [],
      "source": [
        "from z3 import *\n",
        "from itertools import combinations"
      ]
    },
    {
      "cell_type": "code",
      "execution_count": 5,
      "metadata": {
        "id": "3vnGf9hcmp31"
      },
      "outputs": [],
      "source": [
        "#the man the myth the legend: angelo quarta\n",
        "def at_least_one_np(bool_vars):\n",
        "    return Or(bool_vars)\n",
        "\n",
        "def at_most_one_np(bool_vars, name = \"\"):\n",
        "    return And([Not(And(pair[0], pair[1])) for pair in combinations(bool_vars, 2)])\n",
        "\n",
        "def exactly_one_np(bool_vars, name = \"\"):\n",
        "    return And(at_least_one_np(bool_vars), at_most_one_np(bool_vars, name))\n",
        "\n",
        "def at_least_one_he(bool_vars):\n",
        "    return at_least_one_np(bool_vars)\n",
        "\n",
        "def at_most_one_he(bool_vars, name):\n",
        "    if len(bool_vars) <= 4:\n",
        "        return And(at_most_one_np(bool_vars))\n",
        "    y = Bool(f\"y_{name}\")\n",
        "    return And(And(at_most_one_np(bool_vars[:3] + [y])), And(at_most_one_he(bool_vars[3:] + [Not(y)], name+\"_\")))\n",
        "\n",
        "def exactly_one_he(bool_vars, name):\n",
        "    return And(at_most_one_he(bool_vars, name), at_least_one_he(bool_vars))\n",
        "\n",
        "def at_least_k_seq(bool_vars, k, name):\n",
        "    return at_most_k_seq([Not(var) for var in bool_vars], len(bool_vars)-k, name)\n",
        "\n",
        "def at_most_k_seq(bool_vars, k, name):\n",
        "    constraints = []\n",
        "    n = len(bool_vars)\n",
        "    s = [[Bool(f\"s_{name}_{i}_{j}\") for j in range(k)] for i in range(n - 1)]\n",
        "    constraints.append(Or(Not(bool_vars[0]), s[0][0]))\n",
        "    constraints += [Not(s[0][j]) for j in range(1, k)]\n",
        "    for i in range(1, n-1):\n",
        "        constraints.append(Or(Not(bool_vars[i]), s[i][0]))\n",
        "        constraints.append(Or(Not(s[i-1][0]), s[i][0]))\n",
        "        constraints.append(Or(Not(bool_vars[i]), Not(s[i-1][k-1])))\n",
        "        for j in range(1, k):\n",
        "            constraints.append(Or(Not(bool_vars[i]), Not(s[i-1][j-1]), s[i][j]))\n",
        "            constraints.append(Or(Not(s[i-1][j]), s[i][j]))\n",
        "    constraints.append(Or(Not(bool_vars[n-1]), Not(s[n-2][k-1])))\n",
        "    return And(constraints)\n",
        "\n",
        "def exactly_k_seq(bool_vars, k, name):\n",
        "    return And(at_most_k_seq(bool_vars, k, name), at_least_k_seq(bool_vars, k, name))"
      ]
    },
    {
      "cell_type": "code",
      "execution_count": 18,
      "metadata": {
        "colab": {
          "base_uri": "https://localhost:8080/"
        },
        "id": "9w5R8B9tii-k",
        "outputId": "228920f7-746a-403e-e538-da27a88db32d"
      },
      "outputs": [
        {
          "name": "stdout",
          "output_type": "stream",
          "text": [
            "          Week 1    Week 2    Week 3    Week 4    Week 5    Week 6    Week 7    Week 8    Week 9   Week 10   Week 11   Week 12   Week 13  \n",
            "Period 1:   7 v 11   14 v 12    5 v 14    13 v 6    2 v 7     10 v 4    11 v 5    8 v 3     3 v 1     4 v 12    6 v 1     13 v 9    10 v 8  \n",
            "Period 2:   8 v 9     13 v 1    3 v 6     1 v 5     6 v 5     14 v 2    12 v 8   10 v 13    4 v 2     10 v 9    3 v 12   14 v 11    4 v 7   \n",
            "Period 3:   10 v 5    8 v 4     7 v 13    12 v 2   11 v 10    6 v 8     7 v 3     1 v 2    13 v 12    6 v 11    14 v 9    4 v 5     9 v 1   \n",
            "Period 4:   1 v 4     3 v 11   12 v 10   10 v 14    9 v 3     7 v 1     6 v 4     9 v 6     8 v 14    2 v 5     2 v 11    12 v 7    5 v 13  \n",
            "Period 5:   12 v 6    10 v 2    8 v 2     7 v 9     14 v 4    3 v 5     1 v 10    14 v 7    11 v 9    3 v 13    13 v 4    1 v 8    11 v 12  \n",
            "Period 6:   3 v 14    9 v 5     4 v 9     8 v 11    12 v 1   11 v 13   13 v 14    12 v 5    6 v 10    8 v 7     7 v 10    2 v 6     2 v 3   \n",
            "Period 7:   13 v 2    7 v 6     11 v 1    4 v 3     13 v 8    9 v 12    2 v 9     11 v 4    7 v 5     1 v 14    8 v 5     10 v 3    14 v 6  \n",
            "\n",
            "Execution time: 297.09 seconds\n"
          ]
        }
      ],
      "source": [
        "from itertools import combinations\n",
        "from z3 import *\n",
        "import time\n",
        "\n",
        "import numpy as np\n",
        "\n",
        "# Get number of teams from user\n",
        "n = int(input(\"Enter even number of teams: \"))\n",
        "\n",
        "# Start timer\n",
        "start_time = time.time()\n",
        "\n",
        "# === Build schedule ===\n",
        "if n % 2 != 0:\n",
        "    raise ValueError(\"Number of teams must be even.\")\n",
        "\n",
        "weeks = n - 1\n",
        "periods = n // 2\n",
        "teams = list(range(n))\n",
        "\n",
        "\n",
        "home = np.empty((n, weeks, periods), dtype=object)\n",
        "away = np.empty((n, weeks, periods), dtype=object)\n",
        "for t in teams:\n",
        "    for w in range(weeks):\n",
        "        for p in range(periods):\n",
        "            home[t, w, p] = Bool(f\"H_{t}_{w}_{p}\")\n",
        "            away[t, w, p] = Bool(f\"A_{t}_{w}_{p}\")\n",
        "\n",
        "s = Solver()\n",
        "\n",
        "# #seems to be slowing down execution actually\n",
        "# for p in range(periods):\n",
        "#     i, j = 2*p, 2*p + 1  # pairing (0 vs 1), (2 vs 3), etc.\n",
        "#     s.add(home[i, 0, p])\n",
        "#     s.add(away[j, 0, p])\n",
        "\n",
        "# Make team 0 always home in period 0 of week 0\n",
        "#s.add(home[0, 0, 0])\n",
        "\n",
        "\n",
        "\n",
        "# 0. Each slot has exactly one home and one away\n",
        "for w in range(weeks):\n",
        "    for p in range(periods):\n",
        "        s.add(exactly_one_he([home[t, w, p] for t in teams], name=f\"slot_home_{w}_{p}\"))\n",
        "        s.add(exactly_one_he([away[t, w, p] for t in teams], name=f\"slot_away_{w}_{p}\"))\n",
        "\n",
        "# 1. Every team plays exactly once per week\n",
        "for t in teams:\n",
        "    for w in range(weeks):\n",
        "        vars_in_week = [home[t, w, p] for p in range(periods)] + \\\n",
        "                       [away[t, w, p] for p in range(periods)]\n",
        "        s.add(exactly_one_he(vars_in_week, name=f\"team_plays_{t}_{w}\"))\n",
        "\n",
        "# 2. Every pair meets exactly once\n",
        "for i, j in combinations(teams, 2):\n",
        "    match_slots = []\n",
        "    for w in range(weeks):\n",
        "        for p in range(periods):\n",
        "            match_slots.append(\n",
        "                Or(And(home[i, w, p], away[j, w, p]),\n",
        "                   And(home[j, w, p], away[i, w, p]))\n",
        "            )\n",
        "    s.add(exactly_one_he(match_slots, name=f\"pair_meets_{i}_{j}\"))\n",
        "\n",
        "# # 3. At most 2 games per team per period\n",
        "# for t in teams:\n",
        "#     for p in range(periods):\n",
        "#         games = [home[t, w, p] for w in range(weeks)] + [away[t, w, p] for w in range(weeks)]\n",
        "#         for combo in combinations(games, 3):\n",
        "#             s.add(Not(And(combo)))\n",
        "\n",
        "for t in teams:\n",
        "    for p in range(periods):\n",
        "        games = [home[t, w, p] for w in range(weeks)] + [away[t, w, p] for w in range(weeks)]\n",
        "        s.add(at_most_k_seq(games, 2, name=f\"team_{t}_period_{p}\"))\n",
        "\n",
        "\n",
        "# Solve\n",
        "if s.check() != sat:\n",
        "    sched = None\n",
        "else:\n",
        "    m = s.model()\n",
        "\n",
        "    # Extract schedule\n",
        "    sched = [[None]*weeks for _ in range(periods)]\n",
        "    for w in range(weeks):\n",
        "        for p in range(periods):\n",
        "            for i in teams:\n",
        "                if m.evaluate(home[i, w, p]):\n",
        "                    for j in teams:\n",
        "                        if m.evaluate(away[j, w, p]):\n",
        "                            sched[p][w] = (i+1, j+1)\n",
        "\n",
        "# End timer\n",
        "end_time = time.time()\n",
        "\n",
        "# Print schedule\n",
        "if sched is None:\n",
        "    print(\"No solution.\")\n",
        "else:\n",
        "    weeks = len(sched[0])\n",
        "    print(\"        \", end=\"\")\n",
        "    for w in range(1, weeks+1): print(f\"Week {w}\".center(10), end=\"\")\n",
        "    print()\n",
        "    for p, row in enumerate(sched, 1):\n",
        "        print(f\"Period {p}:\", end=\" \")\n",
        "        for game in row:\n",
        "            print(f\"{game[0]} v {game[1]}\".center(10), end=\"\")\n",
        "        print()\n",
        "\n",
        "print(f\"\\nExecution time: {end_time - start_time:.2f} seconds\")"
      ]
    }
  ],
  "metadata": {
    "colab": {
      "include_colab_link": true,
      "provenance": []
    },
    "kernelspec": {
      "display_name": "Python 3",
      "name": "python3"
    },
    "language_info": {
      "codemirror_mode": {
        "name": "ipython",
        "version": 3
      },
      "file_extension": ".py",
      "mimetype": "text/x-python",
      "name": "python",
      "nbconvert_exporter": "python",
      "pygments_lexer": "ipython3",
      "version": "3.12.3"
    }
  },
  "nbformat": 4,
  "nbformat_minor": 0
}
